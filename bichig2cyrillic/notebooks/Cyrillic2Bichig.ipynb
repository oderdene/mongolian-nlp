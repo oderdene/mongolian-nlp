{
  "nbformat": 4,
  "nbformat_minor": 0,
  "metadata": {
    "colab": {
      "name": "Cyrillic2Bichig.ipynb",
      "version": "0.3.2",
      "provenance": [],
      "collapsed_sections": []
    },
    "kernelspec": {
      "name": "python3",
      "display_name": "Python 3"
    }
  },
  "cells": [
    {
      "metadata": {
        "id": "DOifpsPTRzlc",
        "colab_type": "text"
      },
      "cell_type": "markdown",
      "source": [
        "## Cyrillic to Mongolian script converter\n",
        "\n",
        "This demo converts texts written with the Mongolian cyrillic script (modern spoken language in Mongolia) into the traditional Mongolian script (old pronunciation used many hundred years ago) using deep learning. To test this demo, click on \"**Runtime->Run All**\" (Google account required).\n",
        "\n",
        "\n",
        "For more information like implementation details, visit the repo: https://github.com/tugstugi/mongolian-nlp/tree/master/bichig2cyrillic\n",
        "\n",
        "\n",
        "## Install dependencies"
      ]
    },
    {
      "metadata": {
        "id": "kUFr5mqRR2hX",
        "colab_type": "code",
        "colab": {}
      },
      "cell_type": "code",
      "source": [
        "import os\n",
        "from os.path import exists, join, expanduser\n",
        "\n",
        "if not exists('fairseq'):\n",
        "  ! git clone --quiet https://github.com/pytorch/fairseq.git && cd fairseq && git checkout 9dd8724 && pip install -q -r requirements.txt"
      ],
      "execution_count": 0,
      "outputs": []
    },
    {
      "metadata": {
        "id": "DRaE5QkIU7ZV",
        "colab_type": "text"
      },
      "cell_type": "markdown",
      "source": [
        "## Download pretrained model"
      ]
    },
    {
      "metadata": {
        "id": "ADnigfYXUpYx",
        "colab_type": "code",
        "colab": {}
      },
      "cell_type": "code",
      "source": [
        "def download_from_google_drive(file_id, file_name):\n",
        "  # download a file from the Google Drive link\n",
        "  !rm -f ./cookie\n",
        "  !curl -c ./cookie -s -L \"https://drive.google.com/uc?export=download&id={file_id}\" > /dev/null\n",
        "  confirm_text = !awk '/download/ {print $NF}' ./cookie\n",
        "  confirm_text = confirm_text[0]\n",
        "  !curl -Lb ./cookie \"https://drive.google.com/uc?export=download&confirm={confirm_text}&id={file_id}\" -o {file_name}\n",
        "  \n",
        "checkpoint_name = 'cyrillic2bichig-checkpoint'\n",
        "if not exists(checkpoint_name):\n",
        "  checkpoint_file_name = '%s.tar.gz' % checkpoint_name\n",
        "  download_from_google_drive('1OwFyo6EV1_8Tz79YIXC57UV8OvM2I8gf', checkpoint_file_name)\n",
        "  ! tar xvfz {checkpoint_file_name}"
      ],
      "execution_count": 0,
      "outputs": []
    },
    {
      "metadata": {
        "id": "yLQ0db8HW0tC",
        "colab_type": "code",
        "colab": {}
      },
      "cell_type": "code",
      "source": [
        "if not exists('cyrillic2bichig.py'):\n",
        "  ! wget -q -O cyrillic2bichig.py https://raw.githubusercontent.com/tugstugi/mongolian-nlp/master/bichig2cyrillic/cyrillic2bichig.py"
      ],
      "execution_count": 0,
      "outputs": []
    },
    {
      "metadata": {
        "id": "TPvqjKAnV6Un",
        "colab_type": "text"
      },
      "cell_type": "markdown",
      "source": [
        "## Convert\n",
        "\n",
        "Each line should be no longer than 120 characters!"
      ]
    },
    {
      "metadata": {
        "id": "R4Oe2B6lVIrb",
        "colab_type": "code",
        "outputId": "1aec5ccd-ec8e-452f-e6f0-794afa64f40c",
        "colab": {
          "base_uri": "https://localhost:8080/",
          "height": 197
        }
      },
      "cell_type": "code",
      "source": [
        "sentences = [\n",
        "    \"Хэн хүнтэй үг ярина гэдэг\",\n",
        "    \"Хэрэг дээрээ тулалдаан юм\",\n",
        "    \"Халуун хүйтэн ямар ч зэвсгээс\",\n",
        "    \"Хатуу зөөлөн үг хүчтэй\",\n",
        "    \n",
        "    \"Үгээр хүнийг захирч болно\",\n",
        "    \"Үхүүлж ч болно сэхээж ч болно\",\n",
        "    \"Шалдлуулж, инээлгэж, уйлуулж болно\",\n",
        "    \"Шархлуулж бас эдгээж болно\"\n",
        "]\n",
        "sentences = \"\\n\".join(sentences)\n",
        "\n",
        "! echo \"{sentences}\" | python3 cyrillic2bichig.py --path {checkpoint_name}/checkpoint.pt --source-lang cyrillic --target-lang bichig {checkpoint_name}"
      ],
      "execution_count": 4,
      "outputs": [
        {
          "output_type": "stream",
          "text": [
            "| [cyrillic] dictionary: 40 types\n",
            "| [bichig] dictionary: 40 types\n",
            "ᠬᠡᠨ ᠬᠦᠮᠦᠨ ᠲᠡᠢ ᠦᠭᠡ ᠶᠠᠷᠢᠨ᠎ᠠ ᠭᠡᠳᠡᠭ\n",
            "ᠬᠡᠷᠡᠭ ᠳᠡᠭᠡᠷ᠎ᠡ ᠪᠡᠨ ᠲᠤᠯᠤᠯᠳᠤᠭᠠᠨ ᠶᠤᠮ\n",
            "ᠬᠠᠯᠠᠭᠤᠨ ᠬᠦᠢᠲᠡᠨ ᠶᠠᠮᠠᠷ ᠴᠤ ᠵᠡᠪᠰᠡᠭ ᠡᠴᠡ\n",
            "ᠬᠠᠲᠠᠭᠤ ᠵᠥᠭᠡᠯᠡᠨ ᠦᠭᠡ ᠬᠦᠴᠦᠲᠡᠢ\n",
            "ᠦᠭᠡ ᠪᠡᠷ ᠬᠦᠮᠦᠨ ᠢ ᠵᠠᠬᠢᠷᠴᠢ ᠪᠣᠯᠤᠨ᠎ᠠ\n",
            "ᠦᠬᠦᠭᠦᠯᠵᠦ ᠴᠤ ᠪᠣᠯᠤᠨ᠎ᠠ ᠰᠡᠬᠡᠭᠡᠵᠦ ᠴᠤ ᠪᠣᠯᠤᠨ᠎ᠠ\n",
            "ᠱᠠᠯᠳᠠᠯᠠᠭᠤᠯᠵᠤ ᠢᠨᠢᠶᠡᠯᠭᠡᠵᠦ ᠤᠬᠢᠯᠠᠭᠤᠯᠵᠤ ᠪᠣᠯᠤᠨ᠎ᠠ\n",
            "ᠰᠢᠷᠬᠠᠯᠠᠭᠤᠯᠵᠤ ᠪᠠᠰᠠ ᠡᠳᠡᠭᠡᠭᠡᠵᠦ ᠪᠣᠯᠤᠨ᠎ᠠ\n"
          ],
          "name": "stdout"
        }
      ]
    }
  ]
}